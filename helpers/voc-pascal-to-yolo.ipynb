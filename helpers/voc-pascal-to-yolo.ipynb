{
 "cells": [
  {
   "cell_type": "code",
   "execution_count": 7,
   "id": "440cf661",
   "metadata": {},
   "outputs": [],
   "source": [
    "import glob\n",
    "import os\n",
    "import pickle\n",
    "import shutil\n",
    "import pandas as pd\n",
    "from sklearn.model_selection import train_test_split\n",
    "import xml.etree.ElementTree as ET"
   ]
  },
  {
   "cell_type": "markdown",
   "id": "20f80485",
   "metadata": {},
   "source": [
    "# Copying .xml and .jpg files to the same folder"
   ]
  },
  {
   "cell_type": "code",
   "execution_count": 5,
   "id": "4a0aef95",
   "metadata": {},
   "outputs": [],
   "source": [
    "src_dir   = '/home/rtiagos/pprojects/self-driving-boats/src/dataset/WSODD USV_dataset'\n",
    "dest_dir      = '/home/rtiagos/pprojects/self-driving-boats/src/dataset/label_and_img/' \n",
    "\n",
    "\n"
   ]
  },
  {
   "cell_type": "code",
   "execution_count": 6,
   "id": "e1cdddb2",
   "metadata": {},
   "outputs": [],
   "source": [
    "img_src_dir = os.path.join(src_dir, 'image')\n",
    "\n",
    "label_src_dir = os.path.join(src_dir, 'annotation')"
   ]
  },
  {
   "cell_type": "code",
   "execution_count": 7,
   "id": "32529060",
   "metadata": {},
   "outputs": [
    {
     "data": {
      "text/plain": [
       "7467"
      ]
     },
     "execution_count": 7,
     "metadata": {},
     "output_type": "execute_result"
    }
   ],
   "source": [
    "imgs_paths    = glob.glob(os.path.join(img_src_dir, '*.jpg'))\n",
    "len(imgs_paths)"
   ]
  },
  {
   "cell_type": "code",
   "execution_count": 8,
   "id": "4cb59a8a",
   "metadata": {},
   "outputs": [],
   "source": [
    "for img in imgs_paths:\n",
    "    \n",
    "    filename_no_ext = os.path.splitext(os.path.basename(img))[0]\n",
    "    \n",
    "    if not os.path.exists(dest_dir):\n",
    "        os.makedirs(dest_dir)\n",
    "        \n",
    "    shutil.copy(img, os.path.join(dest_dir, filename_no_ext) + '.jpg')\n",
    "    shutil.copy(os.path.join(label_src_dir, filename_no_ext + '.xml'),\n",
    "                os.path.join(dest_dir, filename_no_ext+ '.xml'))"
   ]
  },
  {
   "cell_type": "code",
   "execution_count": null,
   "id": "59376423",
   "metadata": {},
   "outputs": [],
   "source": []
  },
  {
   "cell_type": "markdown",
   "id": "e8879b27",
   "metadata": {},
   "source": [
    "# Splitting in train, validation and test partitions."
   ]
  },
  {
   "cell_type": "code",
   "execution_count": 11,
   "id": "f47defd8",
   "metadata": {},
   "outputs": [],
   "source": [
    "src_dir = '/home/rtiagos/pprojects/self-driving-boats/src/dataset/label_and_img/'\n",
    "\n",
    "train_dest_dir  = '/home/rtiagos/pprojects/self-driving-boats/src/dataset/label_and_img/train'\n",
    "\n",
    "test_dest_dir   = '/home/rtiagos/pprojects/self-driving-boats/src/dataset/label_and_img/val'"
   ]
  },
  {
   "cell_type": "code",
   "execution_count": 12,
   "id": "622aaad5",
   "metadata": {},
   "outputs": [
    {
     "data": {
      "text/plain": [
       "7467"
      ]
     },
     "execution_count": 12,
     "metadata": {},
     "output_type": "execute_result"
    }
   ],
   "source": [
    "imgs_paths     = glob.glob(os.path.join(src_dir, '*.jpg'))\n",
    "len(imgs_paths)"
   ]
  },
  {
   "cell_type": "code",
   "execution_count": 13,
   "id": "9a1078fc",
   "metadata": {},
   "outputs": [],
   "source": [
    "df = pd.DataFrame({'imgs': imgs_paths})"
   ]
  },
  {
   "cell_type": "code",
   "execution_count": 14,
   "id": "0b076e65",
   "metadata": {},
   "outputs": [],
   "source": [
    "train, test = train_test_split(df, test_size = 0.2, random_state = 101)"
   ]
  },
  {
   "cell_type": "code",
   "execution_count": 15,
   "id": "ac6e10eb",
   "metadata": {
    "scrolled": true
   },
   "outputs": [
    {
     "data": {
      "text/plain": [
       "(5973, 1)"
      ]
     },
     "execution_count": 15,
     "metadata": {},
     "output_type": "execute_result"
    }
   ],
   "source": [
    "train.shape"
   ]
  },
  {
   "cell_type": "code",
   "execution_count": 16,
   "id": "bc11e3fa",
   "metadata": {},
   "outputs": [
    {
     "data": {
      "text/plain": [
       "(1494, 1)"
      ]
     },
     "execution_count": 16,
     "metadata": {},
     "output_type": "execute_result"
    }
   ],
   "source": [
    "test.shape"
   ]
  },
  {
   "cell_type": "code",
   "execution_count": 17,
   "id": "fb1d9d84",
   "metadata": {},
   "outputs": [],
   "source": [
    "for img in train.imgs:\n",
    "    filename_no_ext = os.path.splitext(os.path.basename(img))[0]\n",
    "    dirname = os.path.dirname(img)\n",
    "    if not os.path.exists(train_dest_dir):\n",
    "        os.makedirs(train_dest_dir)\n",
    "    shutil.move(img, os.path.join(train_dest_dir, filename_no_ext + '.jpg'))\n",
    "    \n",
    "    shutil.move(os.path.join(dirname, filename_no_ext + '.xml'),\n",
    "                os.path.join(train_dest_dir, filename_no_ext + '.xml'))"
   ]
  },
  {
   "cell_type": "code",
   "execution_count": 18,
   "id": "0ee36c6c",
   "metadata": {},
   "outputs": [],
   "source": [
    "for img in test.imgs:\n",
    "    filename_no_ext = os.path.splitext(os.path.basename(img))[0]\n",
    "    dirname = os.path.dirname(img)\n",
    "    if not os.path.exists(test_dest_dir):\n",
    "        os.makedirs(test_dest_dir)\n",
    "    shutil.move(img, os.path.join(test_dest_dir, filename_no_ext + '.jpg'))\n",
    "    \n",
    "    shutil.move(os.path.join(dirname, filename_no_ext + '.xml'),\n",
    "                os.path.join(test_dest_dir, filename_no_ext + '.xml'))"
   ]
  },
  {
   "cell_type": "markdown",
   "id": "1d5897ca",
   "metadata": {},
   "source": [
    "# Moving images to Image folder"
   ]
  },
  {
   "cell_type": "code",
   "execution_count": 19,
   "id": "aa4367d9",
   "metadata": {},
   "outputs": [],
   "source": [
    "train_src_dir   = '/home/rtiagos/pprojects/self-driving-boats/src/dataset/label_and_img/train'\n",
    "test_src_dir    = '/home/rtiagos/pprojects/self-driving-boats/src/dataset/label_and_img/val'\n",
    "\n",
    "\n",
    "\n",
    "train_dest_dir  = '/home/rtiagos/pprojects/self-driving-boats/src/dataset/label_and_img/train/images'\n",
    "test_dest_dir   = '/home/rtiagos/pprojects/self-driving-boats/src/dataset/label_and_img/val/images'"
   ]
  },
  {
   "cell_type": "code",
   "execution_count": 20,
   "id": "f3abb8e7",
   "metadata": {},
   "outputs": [
    {
     "data": {
      "text/plain": [
       "5973"
      ]
     },
     "execution_count": 20,
     "metadata": {},
     "output_type": "execute_result"
    }
   ],
   "source": [
    "train_imgs_paths = glob.glob(os.path.join(train_src_dir, '*.jpg'))\n",
    "len(train_imgs_paths)"
   ]
  },
  {
   "cell_type": "code",
   "execution_count": 21,
   "id": "a5a91f62",
   "metadata": {},
   "outputs": [
    {
     "data": {
      "text/plain": [
       "1494"
      ]
     },
     "execution_count": 21,
     "metadata": {},
     "output_type": "execute_result"
    }
   ],
   "source": [
    "test_imgs_paths = glob.glob(os.path.join(test_src_dir, '*.jpg'))\n",
    "len(test_imgs_paths)"
   ]
  },
  {
   "cell_type": "code",
   "execution_count": 22,
   "id": "a38bd9f0",
   "metadata": {},
   "outputs": [
    {
     "data": {
      "text/plain": [
       "(5973, 1)"
      ]
     },
     "execution_count": 22,
     "metadata": {},
     "output_type": "execute_result"
    }
   ],
   "source": [
    "train = pd.DataFrame({'imgs': train_imgs_paths})\n",
    "train.shape"
   ]
  },
  {
   "cell_type": "code",
   "execution_count": 23,
   "id": "145c01ae",
   "metadata": {},
   "outputs": [
    {
     "data": {
      "text/plain": [
       "(1494, 1)"
      ]
     },
     "execution_count": 23,
     "metadata": {},
     "output_type": "execute_result"
    }
   ],
   "source": [
    "test = pd.DataFrame({'imgs': test_imgs_paths})\n",
    "test.shape"
   ]
  },
  {
   "cell_type": "code",
   "execution_count": 24,
   "id": "e1203383",
   "metadata": {},
   "outputs": [],
   "source": [
    "for img in train.imgs:\n",
    "    filename_no_ext = os.path.splitext(os.path.basename(img))[0]\n",
    "    dirname = os.path.dirname(img)\n",
    "    if not os.path.exists(train_dest_dir):\n",
    "        os.makedirs(train_dest_dir)\n",
    "    shutil.move(img, os.path.join(train_dest_dir, filename_no_ext + '.jpg'))\n"
   ]
  },
  {
   "cell_type": "code",
   "execution_count": 25,
   "id": "b46b683b",
   "metadata": {},
   "outputs": [],
   "source": [
    "for img in test.imgs:\n",
    "    filename_no_ext = os.path.splitext(os.path.basename(img))[0]\n",
    "    dirname = os.path.dirname(img)\n",
    "    if not os.path.exists(test_dest_dir):\n",
    "        os.makedirs(test_dest_dir)\n",
    "    shutil.move(img, os.path.join(test_dest_dir, filename_no_ext + '.jpg'))\n"
   ]
  },
  {
   "cell_type": "code",
   "execution_count": null,
   "id": "7874989b",
   "metadata": {},
   "outputs": [],
   "source": []
  },
  {
   "cell_type": "markdown",
   "id": "ca9a108a",
   "metadata": {},
   "source": [
    "# Convert PASCAL VOC to YOLO"
   ]
  },
  {
   "cell_type": "code",
   "execution_count": null,
   "id": "e1419b62",
   "metadata": {},
   "outputs": [],
   "source": []
  },
  {
   "cell_type": "code",
   "execution_count": 8,
   "id": "4c164b86",
   "metadata": {},
   "outputs": [],
   "source": [
    "def get_files_in_dir(dir_path):\n",
    "    \n",
    "    image_list = []\n",
    "    \n",
    "    for filename in glob.glob(dir_path + '/*.xml'):\n",
    "        \n",
    "        image_list.append(filename)\n",
    "        \n",
    "    return image_list"
   ]
  },
  {
   "cell_type": "code",
   "execution_count": 9,
   "id": "bdcb8b49",
   "metadata": {},
   "outputs": [],
   "source": [
    "def convert(size, box):\n",
    "    \n",
    "    dw = 1./(size[0])\n",
    "    dh = 1./(size[1])\n",
    "    x = (box[0] + box[1])/2.0 - 1\n",
    "    y = (box[2] + box[3])/2.0 - 1\n",
    "    w = box[1] - box[0]\n",
    "    h = box[3] - box[2]\n",
    "    x = x*dw\n",
    "    w = w*dw\n",
    "    y = y*dh\n",
    "    h = h*dh\n",
    "    return (x,y,w,h)"
   ]
  },
  {
   "cell_type": "code",
   "execution_count": 10,
   "id": "85171789",
   "metadata": {},
   "outputs": [],
   "source": [
    "def convert_annotation(dir_path, output_path, image_path):\n",
    "    \n",
    "    basename = os.path.basename(image_path)\n",
    "    basename_no_ext = os.path.splitext(basename)[0]\n",
    "\n",
    "    in_file = open(dir_path + '/' + basename_no_ext + '.xml')\n",
    "    out_file = open(output_path + basename_no_ext + '.txt', 'w')\n",
    "    tree = ET.parse(in_file)\n",
    "    root = tree.getroot()\n",
    "    size = root.find('size')\n",
    "    w = int(size.find('width').text)\n",
    "    h = int(size.find('height').text)\n",
    "\n",
    "    for obj in root.iter('object'):\n",
    "        difficult = obj.find('difficult').text\n",
    "        cls = obj.find('name').text\n",
    "        if cls not in classes or int(difficult)==1:\n",
    "            continue\n",
    "        cls_id = classes.index(cls)\n",
    "        xmlbox = obj.find('bndbox')\n",
    "        b = (float(xmlbox.find('xmin').text), float(xmlbox.find('xmax').text), float(xmlbox.find('ymin').text), float(xmlbox.find('ymax').text))\n",
    "        bb = convert((w,h), b)\n",
    "        out_file.write(str(cls_id) + \" \" + \" \".join([str(a) for a in bb]) + '\\n')"
   ]
  },
  {
   "cell_type": "code",
   "execution_count": 11,
   "id": "751d9ca8",
   "metadata": {},
   "outputs": [],
   "source": [
    "dirs = ['train', 'val']\n",
    "classes = ['bridge', 'ship', 'boat', 'ball', 'rubbish', 'rock', 'buoy', 'platform', 'harbor', 'mast',\n",
    "           'tree', 'animal', 'grass', 'person']\n",
    "\n"
   ]
  },
  {
   "cell_type": "code",
   "execution_count": 12,
   "id": "a763ee9f",
   "metadata": {},
   "outputs": [
    {
     "name": "stdout",
     "output_type": "stream",
     "text": [
      "/home/rtiagos/pprojects/self-driving-boats/src/notebooks\n"
     ]
    }
   ],
   "source": [
    "cwd = os.getcwd()\n",
    "print(cwd)"
   ]
  },
  {
   "cell_type": "code",
   "execution_count": 13,
   "id": "ec5934d1",
   "metadata": {},
   "outputs": [],
   "source": [
    "input_dir = '/home/rtiagos/pprojects/self-driving-boats/src/dataset/label_and_img_tmp/'"
   ]
  },
  {
   "cell_type": "code",
   "execution_count": 14,
   "id": "568e2807",
   "metadata": {},
   "outputs": [
    {
     "name": "stdout",
     "output_type": "stream",
     "text": [
      "Finished processing: train\n",
      "Finished processing: val\n"
     ]
    }
   ],
   "source": [
    "for dir_path in dirs:\n",
    "    full_dir_path = os.path.join(input_dir, dir_path) \n",
    "    output_path = full_dir_path + '/labels/'\n",
    "    \n",
    "    if not os.path.exists(output_path):\n",
    "        os.makedirs(output_path)\n",
    "    \n",
    "    pascal_voc_annotations = get_files_in_dir(full_dir_path)\n",
    "#     list_file = open(full_dir_path + '.txt', 'w')\n",
    "    \n",
    "    for ann in pascal_voc_annotations:\n",
    "#         list_file.write(image_path + '\\n')\n",
    "        convert_annotation(full_dir_path, output_path, ann)\n",
    "        \n",
    "#     list_file.close()\n",
    "\n",
    "    print(\"Finished processing: \" + dir_path)"
   ]
  },
  {
   "cell_type": "code",
   "execution_count": null,
   "id": "1b2d2faf",
   "metadata": {},
   "outputs": [],
   "source": []
  },
  {
   "cell_type": "markdown",
   "id": "84b2b911",
   "metadata": {},
   "source": [
    "# Updating Missed Label"
   ]
  },
  {
   "cell_type": "code",
   "execution_count": null,
   "id": "aa64deb3",
   "metadata": {},
   "outputs": [],
   "source": []
  }
 ],
 "metadata": {
  "kernelspec": {
   "display_name": "Python 3 (ipykernel)",
   "language": "python",
   "name": "python3"
  },
  "language_info": {
   "codemirror_mode": {
    "name": "ipython",
    "version": 3
   },
   "file_extension": ".py",
   "mimetype": "text/x-python",
   "name": "python",
   "nbconvert_exporter": "python",
   "pygments_lexer": "ipython3",
   "version": "3.8.12"
  }
 },
 "nbformat": 4,
 "nbformat_minor": 5
}
