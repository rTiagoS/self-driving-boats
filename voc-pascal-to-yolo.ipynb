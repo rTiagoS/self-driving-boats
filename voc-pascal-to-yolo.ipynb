{
 "cells": [
  {
   "cell_type": "code",
   "execution_count": 137,
   "id": "440cf661",
   "metadata": {},
   "outputs": [],
   "source": [
    "import glob\n",
    "import os\n",
    "import pickle\n",
    "import shutil\n",
    "import pandas as pd\n",
    "from sklearn.model_selection import train_test_split\n",
    "import xml.etree.ElementTree as ET"
   ]
  },
  {
   "cell_type": "code",
   "execution_count": 171,
   "id": "3ffcde69",
   "metadata": {},
   "outputs": [],
   "source": [
    "dirs = ['train', 'val']\n",
    "classes = ['bridge', 'ship', 'boat', 'ball', 'rubish', 'rock', 'buoy', 'platform', 'habor', 'mast',\n",
    "           'tree', 'animal', 'grass', 'person']\n",
    "\n"
   ]
  },
  {
   "cell_type": "code",
   "execution_count": 139,
   "id": "d2f75ae8",
   "metadata": {},
   "outputs": [],
   "source": [
    "def get_images_in_dir(dir_path):\n",
    "    \n",
    "    image_list = []\n",
    "    \n",
    "    for filename in glob.glob(dir_path + '/*.jpg'):\n",
    "        \n",
    "        image_list.append(filename)\n",
    "        \n",
    "    return image_list"
   ]
  },
  {
   "cell_type": "code",
   "execution_count": 140,
   "id": "616a69d9",
   "metadata": {},
   "outputs": [],
   "source": [
    "def convert(size, box):\n",
    "    \n",
    "    dw = 1./(size[0])\n",
    "    dh = 1./(size[1])\n",
    "    x = (box[0] + box[1])/2.0 - 1\n",
    "    y = (box[2] + box[3])/2.0 - 1\n",
    "    w = box[1] - box[0]\n",
    "    h = box[3] - box[2]\n",
    "    x = x*dw\n",
    "    w = w*dw\n",
    "    y = y*dh\n",
    "    h = h*dh\n",
    "    return (x,y,w,h)"
   ]
  },
  {
   "cell_type": "code",
   "execution_count": 141,
   "id": "d98b997a",
   "metadata": {},
   "outputs": [],
   "source": [
    "def convert_annotation(dir_path, output_path, image_path):\n",
    "    \n",
    "    basename = os.path.basename(image_path)\n",
    "    basename_no_ext = os.path.splitext(basename)[0]\n",
    "\n",
    "    in_file = open(dir_path + '/' + basename_no_ext + '.xml')\n",
    "    out_file = open(output_path + basename_no_ext + '.txt', 'w')\n",
    "    tree = ET.parse(in_file)\n",
    "    root = tree.getroot()\n",
    "    size = root.find('size')\n",
    "    w = int(size.find('width').text)\n",
    "    h = int(size.find('height').text)\n",
    "\n",
    "    for obj in root.iter('object'):\n",
    "        difficult = obj.find('difficult').text\n",
    "        cls = obj.find('name').text\n",
    "        if cls not in classes or int(difficult)==1:\n",
    "            continue\n",
    "        cls_id = classes.index(cls)\n",
    "        xmlbox = obj.find('bndbox')\n",
    "        b = (float(xmlbox.find('xmin').text), float(xmlbox.find('xmax').text), float(xmlbox.find('ymin').text), float(xmlbox.find('ymax').text))\n",
    "        bb = convert((w,h), b)\n",
    "        out_file.write(str(cls_id) + \" \" + \" \".join([str(a) for a in bb]) + '\\n')"
   ]
  },
  {
   "cell_type": "code",
   "execution_count": 142,
   "id": "541d099b",
   "metadata": {},
   "outputs": [
    {
     "name": "stdout",
     "output_type": "stream",
     "text": [
      "/home/rtiagosa/pprojects/self-driving-boats\n"
     ]
    }
   ],
   "source": [
    "cwd = os.getcwd()\n",
    "print(cwd)"
   ]
  },
  {
   "cell_type": "code",
   "execution_count": 143,
   "id": "f87234f8",
   "metadata": {},
   "outputs": [],
   "source": [
    "input_dir = '/home/rtiagosa/pprojects/self-driving-boats/WSODD_dataset/label_and_img'"
   ]
  },
  {
   "cell_type": "code",
   "execution_count": 172,
   "id": "ca6c36ab",
   "metadata": {},
   "outputs": [
    {
     "name": "stdout",
     "output_type": "stream",
     "text": [
      "Finished processing: train\n",
      "Finished processing: val\n"
     ]
    }
   ],
   "source": [
    "for dir_path in dirs:\n",
    "    full_dir_path = os.path.join(input_dir, dir_path) \n",
    "    output_path = full_dir_path + '/labels/'\n",
    "    \n",
    "    if not os.path.exists(output_path):\n",
    "        os.makedirs(output_path)\n",
    "    \n",
    "    image_paths = get_images_in_dir(full_dir_path)\n",
    "    list_file = open(full_dir_path + '.txt', 'w')\n",
    "    \n",
    "    for image_path in image_paths:\n",
    "        list_file.write(image_path + '\\n')\n",
    "        convert_annotation(full_dir_path, output_path, image_path)\n",
    "        \n",
    "    list_file.close()\n",
    "\n",
    "    print(\"Finished processing: \" + dir_path)"
   ]
  },
  {
   "cell_type": "code",
   "execution_count": null,
   "id": "e11c60c9",
   "metadata": {},
   "outputs": [],
   "source": []
  },
  {
   "cell_type": "markdown",
   "id": "20f80485",
   "metadata": {},
   "source": [
    "# Copying .xml and .jpg files to the same folder"
   ]
  },
  {
   "cell_type": "code",
   "execution_count": null,
   "id": "f1007b88",
   "metadata": {},
   "outputs": [],
   "source": []
  },
  {
   "cell_type": "code",
   "execution_count": 159,
   "id": "4a0aef95",
   "metadata": {},
   "outputs": [],
   "source": [
    "src_img_dir   = '/home/rtiagosa/pprojects/self-driving-boats/WSODD_dataset/image'\n",
    "src_label_dir = '/home/rtiagosa/pprojects/self-driving-boats/WSODD_dataset/annotation/'\n",
    "\n",
    "dest_dir      = '/home/rtiagosa/pprojects/self-driving-boats/WSODD_dataset/label_and_img/' "
   ]
  },
  {
   "cell_type": "code",
   "execution_count": 160,
   "id": "32529060",
   "metadata": {},
   "outputs": [],
   "source": [
    "img_list    = glob.glob(os.path.join(src_img_dir, '*.jpg'))\n",
    "label_list  = glob.glob(os.path.join(src_label_dir, '*.xml'))"
   ]
  },
  {
   "cell_type": "code",
   "execution_count": 161,
   "id": "4cb59a8a",
   "metadata": {},
   "outputs": [],
   "source": [
    "for src_label, src_img in zip(label_list, img_list):\n",
    "    basename = os.path.splitext(os.path.basename(src_label))[0]\n",
    "    if not os.path.exists(dest_dir):\n",
    "        os.makedirs(dest_dir)\n",
    "    shutil.copy(src_label, os.path.join(dest_dir, basename) + '.xml')\n",
    "    shutil.copy(src_img, os.path.join(dest_dir, basename) + '.jpg')"
   ]
  },
  {
   "cell_type": "code",
   "execution_count": null,
   "id": "59376423",
   "metadata": {},
   "outputs": [],
   "source": []
  },
  {
   "cell_type": "markdown",
   "id": "e8879b27",
   "metadata": {},
   "source": [
    "# Splitting in train, validation and test partitions."
   ]
  },
  {
   "cell_type": "code",
   "execution_count": 168,
   "id": "f47defd8",
   "metadata": {},
   "outputs": [],
   "source": [
    "src_dir = '/home/rtiagosa/pprojects/self-driving-boats/WSODD_dataset/label_and_img/'\n",
    "\n",
    "train_src_dir   = '/home/rtiagosa/pprojects/self-driving-boats/WSODD_dataset/label_and_img/train'\n",
    "test_src_dir    = '/home/rtiagosa/pprojects/self-driving-boats/WSODD_dataset/label_and_img/test'\n",
    "\n",
    "\n",
    "\n",
    "train_dest_dir  = '/home/rtiagosa/pprojects/self-driving-boats/WSODD_dataset/label_and_img/train'\n",
    "test_dest_dir   = '/home/rtiagosa/pprojects/self-driving-boats/WSODD_dataset/label_and_img/test'"
   ]
  },
  {
   "cell_type": "code",
   "execution_count": 162,
   "id": "622aaad5",
   "metadata": {},
   "outputs": [],
   "source": [
    "src_img_list       = glob.glob(os.path.join(src_dir, '*.jpg'))"
   ]
  },
  {
   "cell_type": "code",
   "execution_count": 147,
   "id": "a8701fcd",
   "metadata": {},
   "outputs": [],
   "source": [
    "# train_img_list        = glob.glob(os.path.join(train_src_dir, '*.jpg'))"
   ]
  },
  {
   "cell_type": "code",
   "execution_count": 154,
   "id": "4460574e",
   "metadata": {},
   "outputs": [],
   "source": [
    "# test_img_list        = glob.glob(os.path.join(test_src_dir, '*.jpg'))"
   ]
  },
  {
   "cell_type": "code",
   "execution_count": 164,
   "id": "9a1078fc",
   "metadata": {},
   "outputs": [],
   "source": [
    "df = pd.DataFrame({'imgs': src_img_list})"
   ]
  },
  {
   "cell_type": "code",
   "execution_count": 165,
   "id": "0b076e65",
   "metadata": {},
   "outputs": [],
   "source": [
    "train, test = train_test_split(df, test_size = 0.2)"
   ]
  },
  {
   "cell_type": "code",
   "execution_count": 166,
   "id": "ac6e10eb",
   "metadata": {
    "scrolled": true
   },
   "outputs": [
    {
     "data": {
      "text/plain": [
       "(5972, 1)"
      ]
     },
     "execution_count": 166,
     "metadata": {},
     "output_type": "execute_result"
    }
   ],
   "source": [
    "train.shape"
   ]
  },
  {
   "cell_type": "code",
   "execution_count": 167,
   "id": "bc11e3fa",
   "metadata": {},
   "outputs": [
    {
     "data": {
      "text/plain": [
       "(1494, 1)"
      ]
     },
     "execution_count": 167,
     "metadata": {},
     "output_type": "execute_result"
    }
   ],
   "source": [
    "test.shape"
   ]
  },
  {
   "cell_type": "code",
   "execution_count": 169,
   "id": "fb1d9d84",
   "metadata": {},
   "outputs": [],
   "source": [
    "for img_path in train.imgs:\n",
    "    basename = os.path.splitext(os.path.basename(img_path))[0]\n",
    "    dirname = os.path.dirname(img_path)\n",
    "    if not os.path.exists(train_dest_dir):\n",
    "        os.makedirs(train_dest_dir)\n",
    "    shutil.move(img_path, os.path.join(train_dest_dir, basename) + '.jpg')\n",
    "    shutil.move(os.path.join(dirname, basename + '.xml'),\n",
    "                os.path.join(train_dest_dir, basename + '.xml')\n",
    "               )"
   ]
  },
  {
   "cell_type": "code",
   "execution_count": 170,
   "id": "0ee36c6c",
   "metadata": {},
   "outputs": [],
   "source": [
    "for img_path in test.imgs:\n",
    "    basename = os.path.splitext(os.path.basename(img_path))[0]\n",
    "    dirname = os.path.dirname(img_path)\n",
    "    if not os.path.exists(test_dest_dir):\n",
    "        os.makedirs(test_dest_dir)\n",
    "    shutil.move(img_path, os.path.join(test_dest_dir, basename) + '.jpg')\n",
    "    shutil.move(os.path.join(dirname, basename + '.xml'),\n",
    "                os.path.join(test_dest_dir, basename + '.xml')\n",
    "               )"
   ]
  },
  {
   "cell_type": "markdown",
   "id": "1d5897ca",
   "metadata": {},
   "source": [
    "# Moving images to Image folder"
   ]
  },
  {
   "cell_type": "code",
   "execution_count": 183,
   "id": "aa4367d9",
   "metadata": {},
   "outputs": [],
   "source": [
    "train_src_dir   = '/home/rtiagosa/pprojects/self-driving-boats/WSODD_dataset/label_and_img/train'\n",
    "test_src_dir    = '/home/rtiagosa/pprojects/self-driving-boats/WSODD_dataset/label_and_img/val'\n",
    "\n",
    "\n",
    "\n",
    "train_dest_dir  = '/home/rtiagosa/pprojects/self-driving-boats/WSODD_dataset/label_and_img/train/images'\n",
    "test_dest_dir   = '/home/rtiagosa/pprojects/self-driving-boats/WSODD_dataset/label_and_img/test/images'"
   ]
  },
  {
   "cell_type": "code",
   "execution_count": 177,
   "id": "f3abb8e7",
   "metadata": {},
   "outputs": [],
   "source": [
    "train_img_list        = glob.glob(os.path.join(train_src_dir, '*.jpg'))"
   ]
  },
  {
   "cell_type": "code",
   "execution_count": 184,
   "id": "a5a91f62",
   "metadata": {},
   "outputs": [],
   "source": [
    "test_img_list        = glob.glob(os.path.join(test_src_dir, '*.jpg'))"
   ]
  },
  {
   "cell_type": "code",
   "execution_count": 185,
   "id": "a38bd9f0",
   "metadata": {},
   "outputs": [],
   "source": [
    "train = pd.DataFrame({'imgs': train_img_list})"
   ]
  },
  {
   "cell_type": "code",
   "execution_count": 186,
   "id": "145c01ae",
   "metadata": {},
   "outputs": [],
   "source": [
    "test = pd.DataFrame({'imgs': test_img_list})"
   ]
  },
  {
   "cell_type": "code",
   "execution_count": 181,
   "id": "e1203383",
   "metadata": {},
   "outputs": [],
   "source": [
    "for img_path in train.imgs:\n",
    "    basename = os.path.splitext(os.path.basename(img_path))[0]\n",
    "    dirname = os.path.dirname(img_path)\n",
    "    if not os.path.exists(train_dest_dir):\n",
    "        os.makedirs(train_dest_dir)\n",
    "    shutil.move(img_path, os.path.join(train_dest_dir, basename) + '.jpg')"
   ]
  },
  {
   "cell_type": "code",
   "execution_count": 187,
   "id": "b46b683b",
   "metadata": {},
   "outputs": [],
   "source": [
    "for img_path in test.imgs:\n",
    "    basename = os.path.splitext(os.path.basename(img_path))[0]\n",
    "    dirname = os.path.dirname(img_path)\n",
    "    if not os.path.exists(test_dest_dir):\n",
    "        os.makedirs(test_dest_dir)\n",
    "    shutil.move(img_path, os.path.join(test_dest_dir, basename) + '.jpg')"
   ]
  },
  {
   "cell_type": "code",
   "execution_count": null,
   "id": "7874989b",
   "metadata": {},
   "outputs": [],
   "source": []
  },
  {
   "cell_type": "code",
   "execution_count": null,
   "id": "f7ecfdd5",
   "metadata": {},
   "outputs": [],
   "source": []
  },
  {
   "cell_type": "code",
   "execution_count": null,
   "id": "e1419b62",
   "metadata": {},
   "outputs": [],
   "source": []
  },
  {
   "cell_type": "code",
   "execution_count": null,
   "id": "4c164b86",
   "metadata": {},
   "outputs": [],
   "source": []
  }
 ],
 "metadata": {
  "kernelspec": {
   "display_name": "Python 3 (ipykernel)",
   "language": "python",
   "name": "python3"
  },
  "language_info": {
   "codemirror_mode": {
    "name": "ipython",
    "version": 3
   },
   "file_extension": ".py",
   "mimetype": "text/x-python",
   "name": "python",
   "nbconvert_exporter": "python",
   "pygments_lexer": "ipython3",
   "version": "3.9.7"
  }
 },
 "nbformat": 4,
 "nbformat_minor": 5
}
